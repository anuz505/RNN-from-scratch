{
 "cells": [
  {
   "cell_type": "code",
   "execution_count": 1,
   "id": "3fb92bbc",
   "metadata": {},
   "outputs": [],
   "source": [
    "import numpy as np\n",
    "import pandas as pd"
   ]
  },
  {
   "cell_type": "code",
   "execution_count": 6,
   "id": "77e12abf",
   "metadata": {},
   "outputs": [
    {
     "data": {
      "text/html": [
       "<div>\n",
       "<style scoped>\n",
       "    .dataframe tbody tr th:only-of-type {\n",
       "        vertical-align: middle;\n",
       "    }\n",
       "\n",
       "    .dataframe tbody tr th {\n",
       "        vertical-align: top;\n",
       "    }\n",
       "\n",
       "    .dataframe thead th {\n",
       "        text-align: right;\n",
       "    }\n",
       "</style>\n",
       "<table border=\"1\" class=\"dataframe\">\n",
       "  <thead>\n",
       "    <tr style=\"text-align: right;\">\n",
       "      <th></th>\n",
       "      <th>tmax</th>\n",
       "      <th>tmin</th>\n",
       "      <th>rain</th>\n",
       "      <th>tmax_tomorrow</th>\n",
       "    </tr>\n",
       "  </thead>\n",
       "  <tbody>\n",
       "    <tr>\n",
       "      <th>1970-01-01</th>\n",
       "      <td>60.0</td>\n",
       "      <td>35.0</td>\n",
       "      <td>0.0</td>\n",
       "      <td>52.0</td>\n",
       "    </tr>\n",
       "    <tr>\n",
       "      <th>1970-01-02</th>\n",
       "      <td>52.0</td>\n",
       "      <td>39.0</td>\n",
       "      <td>0.0</td>\n",
       "      <td>52.0</td>\n",
       "    </tr>\n",
       "    <tr>\n",
       "      <th>1970-01-03</th>\n",
       "      <td>52.0</td>\n",
       "      <td>35.0</td>\n",
       "      <td>0.0</td>\n",
       "      <td>53.0</td>\n",
       "    </tr>\n",
       "    <tr>\n",
       "      <th>1970-01-04</th>\n",
       "      <td>53.0</td>\n",
       "      <td>36.0</td>\n",
       "      <td>0.0</td>\n",
       "      <td>52.0</td>\n",
       "    </tr>\n",
       "    <tr>\n",
       "      <th>1970-01-05</th>\n",
       "      <td>52.0</td>\n",
       "      <td>35.0</td>\n",
       "      <td>0.0</td>\n",
       "      <td>50.0</td>\n",
       "    </tr>\n",
       "  </tbody>\n",
       "</table>\n",
       "</div>"
      ],
      "text/plain": [
       "            tmax  tmin  rain  tmax_tomorrow\n",
       "1970-01-01  60.0  35.0   0.0           52.0\n",
       "1970-01-02  52.0  39.0   0.0           52.0\n",
       "1970-01-03  52.0  35.0   0.0           53.0\n",
       "1970-01-04  53.0  36.0   0.0           52.0\n",
       "1970-01-05  52.0  35.0   0.0           50.0"
      ]
     },
     "execution_count": 6,
     "metadata": {},
     "output_type": "execute_result"
    }
   ],
   "source": [
    "data = pd.read_csv(\"clean_weather.csv\",index_col=0)\n",
    "data = data.ffill()\n",
    "data.head()\n"
   ]
  },
  {
   "cell_type": "code",
   "execution_count": 21,
   "id": "29a9d74a",
   "metadata": {},
   "outputs": [
    {
     "data": {
      "text/plain": [
       "array([66., 70., 62.])"
      ]
     },
     "execution_count": 21,
     "metadata": {},
     "output_type": "execute_result"
    }
   ],
   "source": [
    "temps = data[\"tmax\"].tail(3).to_numpy()\n",
    "temps"
   ]
  },
  {
   "cell_type": "markdown",
   "id": "4d74818a",
   "metadata": {},
   "source": [
    "\n",
    "### Forward Pass and Prediction\n",
    "\n",
    "Let's go through an example to see how this works. We'll initialize each weight matrix, then perform a sample forward pass with 3 sequence elements:\n",
    "\n",
    "1. **Input Weights (`i_weights`)**: These weights connect the input to the hidden layer.\n",
    "2. **Hidden Weights (`h_weights`)**: These weights connect the hidden state from the previous time step to the current hidden state.\n",
    "3. **Output Weights (`o_weights`)**: These weights connect the hidden layer to the output.\n",
    "\n",
    "The forward pass involves calculating the following for each time step:\n",
    "- **Input to Hidden (`XI_t`)**: The contribution of the input at the current time step to the hidden state.\n",
    "- **Hidden State (`XH_t`)**: The combined effect of the input and the previous hidden state, passed through an activation function (ReLU in this case).\n",
    "- **Output (`XO_t`)**: The prediction for the next sequence element, based on the current hidden state.\n",
    "\n",
    "We perform this process for 3 sequence elements (`x0`, `x1`, `x2`) using the initialized weights and inputs.\n",
    "```"
   ]
  },
  {
   "cell_type": "code",
   "execution_count": 22,
   "id": "65063b1d",
   "metadata": {},
   "outputs": [],
   "source": [
    "# input\n",
    "x0 = temps[0].reshape(1,1)\n",
    "x1 = temps[1].reshape(1,1)\n",
    "x2 = temps[2].reshape(1,1)"
   ]
  },
  {
   "cell_type": "code",
   "execution_count": 23,
   "id": "5c0f0cda",
   "metadata": {},
   "outputs": [],
   "source": [
    "#weights\n",
    "np.random.seed(0)\n",
    "i_weights = np.random.rand(1,2)\n",
    "h_weights = np.random.rand(2,2)\n",
    "o_weights = np.random.rand(2,1)\n"
   ]
  },
  {
   "cell_type": "code",
   "execution_count": null,
   "id": "377f71d0",
   "metadata": {},
   "outputs": [
    {
     "data": {
      "text/plain": [
       "array([[57.94406231]])"
      ]
     },
     "execution_count": 24,
     "metadata": {},
     "output_type": "execute_result"
    }
   ],
   "source": [
    "# calculate xi at time step 0\n",
    "XI_0 = x0 @ i_weights\n",
    "# there is no previous time step, so there is not going to be a hidden state\n",
    "XH_0 = np.maximum(0, XI_0) # relu\n",
    "# Output at time step 0 at xo_0\n",
    "XO_0 = XH_0 @ o_weights\n",
    "XO_0"
   ]
  },
  {
   "cell_type": "code",
   "execution_count": 25,
   "id": "7cf2e95f",
   "metadata": {},
   "outputs": [
    {
     "data": {
      "text/plain": [
       "array([[124.54916092]])"
      ]
     },
     "execution_count": 25,
     "metadata": {},
     "output_type": "execute_result"
    }
   ],
   "source": [
    "XI_1 = x1 @ i_weights\n",
    "XH = XH_0 @ h_weights\n",
    "XH_1 = np.maximum(0,XH+XI_1)\n",
    "XO_1 = XH_1@ o_weights\n",
    "XO_1"
   ]
  },
  {
   "cell_type": "code",
   "execution_count": 26,
   "id": "9d0cad21",
   "metadata": {},
   "outputs": [
    {
     "data": {
      "text/plain": [
       "array([[190.94853131]])"
      ]
     },
     "execution_count": 26,
     "metadata": {},
     "output_type": "execute_result"
    }
   ],
   "source": [
    "XI_2 = x2 @ i_weights\n",
    "XH = XH_1 @ h_weights\n",
    "XH_2 = np.maximum(0,XH+XI_2)\n",
    "XO_2 = XH_2@ o_weights\n",
    "XO_2"
   ]
  },
  {
   "cell_type": "markdown",
   "id": "8d579dec",
   "metadata": {},
   "source": [
    "We've now passed through 3 forward steps of our RNN! The output x0 at each time step is the prediction for the next element in the sequence.\n",
    "\n",
    "The hidden state of the RNN allows the network to have information about all past sequence elements. So when we're processing the sequence item at time step 2, the hidden state of the RNN stores information about the sequence elements at time step 0 and 1."
   ]
  },
  {
   "cell_type": "code",
   "execution_count": null,
   "id": "fd4b54f3",
   "metadata": {},
   "outputs": [],
   "source": []
  }
 ],
 "metadata": {
  "kernelspec": {
   "display_name": "base",
   "language": "python",
   "name": "python3"
  },
  "language_info": {
   "codemirror_mode": {
    "name": "ipython",
    "version": 3
   },
   "file_extension": ".py",
   "mimetype": "text/x-python",
   "name": "python",
   "nbconvert_exporter": "python",
   "pygments_lexer": "ipython3",
   "version": "3.12.7"
  }
 },
 "nbformat": 4,
 "nbformat_minor": 5
}
